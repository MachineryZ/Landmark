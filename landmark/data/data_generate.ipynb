{
 "cells": [
  {
   "cell_type": "code",
   "execution_count": 2,
   "metadata": {},
   "outputs": [],
   "source": [
    "import os\n",
    "import math\n",
    "import torch\n",
    "import csv\n",
    "import time\n",
    "import operator\n",
    "\n",
    "from mpl_toolkits.mplot3d import Axes3D\n",
    "from torch.utils.data import Dataset, DataLoader\n",
    "from torchvision import transforms, utils\n",
    "from matplotlib.path import Path\n",
    "from random import randint\n",
    "\n",
    "import cv2 as cv\n",
    "import numpy as np\n",
    "import networkx as nx\n",
    "import matplotlib.pyplot as plt\n",
    "import matplotlib.patches as patches\n",
    "import matplotlib.gridspec as gridspec\n",
    "\n"
   ]
  },
  {
   "cell_type": "code",
   "execution_count": 3,
   "metadata": {},
   "outputs": [],
   "source": [
    "# create the environment\n",
    "# ------------------\n",
    "# filled with obstacles\n",
    "# ------------------\n",
    "# Define different shapes:\n",
    "#\n",
    "def create_polygon(x, y, lmin, lmax, n):\n",
    "    '''\n",
    "    creating a quadrangle in a image\n",
    "    (x_0, y_0) : coordinate of center of polygon\n",
    "    (x1, y1), ..., (x4, y4) : coordinate of each vertices \n",
    "    '''\n",
    "    x_0, y_0 = np.random.uniform(0,x), np.random.uniform(0, y)\n",
    "    \n",
    "    # randomly choose the angle for each vertice\n",
    "    theta = np.zeros(n)\n",
    "    for i in range(n):\n",
    "        theta[i] = np.random.uniform(2*np.pi*i/n, 2*np.pi*(i+1)/n)\n",
    "    \n",
    "    # randomly choose the length for each vertice\n",
    "    length = np.zeros(n)\n",
    "    for i in range(n):\n",
    "        length[i] = np.random.uniform(lmin, lmax)\n",
    "    \n",
    "    # compute the coordinate of 4 vertice\n",
    "    vertices = np.zeros((n,2))\n",
    "    for i in range(n):\n",
    "        vertices[i][0] = x_0 + length[i] * np.cos(theta[i])\n",
    "        vertices[i][1] = y_0 + length[i] * np.sin(theta[i])\n",
    "    return vertices\n",
    "\n",
    "def create_circle(x, y, rmin, rmax):\n",
    "    center = np.zeros(2)\n",
    "    center[0], center[1] = np.random.uniform(0, x), np.random.uniform(0, y)\n",
    "    radius = np.random.uniform(rmin, rmax)\n",
    "    return center, radius\n",
    "\n",
    "def check_polygon(img, vertices):\n",
    "    x, y = img.shape[0], img.shape[1] \n",
    "    p = Path(vertices)\n",
    "    for i in range(x):\n",
    "        for j in range(y):\n",
    "            img[i][j] = (img[i][j] or (p.contains_points([(i, j)]) == True))\n",
    "    return img\n",
    "\n",
    "def check_circle(img, center, radius):\n",
    "    x, y = img.shape[0], img.shape[1]\n",
    "    for i in range(x):\n",
    "        for j in range(y):\n",
    "            img[i][j] = (img[i][j] or (np.sqrt((center[0] - i)*(center[0] - i) + (center[1] - j)*(center[1] - j)) <= radius))\n",
    "    return img\n",
    "\n",
    "def add_obstacle(img, lmin, lmax, rmin, rmax, n_min, n_max, rate=0.2):\n",
    "    x, y = img.shape[0], img.shape[1]\n",
    "    n = randint(n_min, n_max)\n",
    "    for i in range(n):\n",
    "        flag = np.random.uniform(0,1)\n",
    "        if flag <= rate:\n",
    "            center, radius = create_circle(x, y, rmin, rmax)\n",
    "            img = check_circle(img, center, radius)\n",
    "        else:\n",
    "            vertices = create_polygon(x, y, lmin, lmax, randint(3,6))\n",
    "            img = check_polygon(img, vertices)  \n",
    "    return img\n",
    "\n",
    "def create_graph_path(img, N, K, w_min, w_max):\n",
    "    points = np.zeros((N, 2))\n",
    "    x, y = img.shape[0], img.shape[1]\n",
    "    print(x, y)\n",
    "    # make the start and goal on the left down corner\n",
    "    # and right top corner\n",
    "    points[0][0], points[0][1] = randint(0, 10), randint(0, 10)\n",
    "    points[1][0], points[1][1] = randint(x - 10, x), randint(y - 10, y)\n",
    "    for i in range(2,N):\n",
    "        points[i][0], points[i][1] = randint(0, x), randint(0, y)\n",
    "    \n",
    "    # Create K-nn Graph\n",
    "    edge = []\n",
    "    for i in range(N):\n",
    "        distances = []\n",
    "        for j in range(N):\n",
    "            if i == j:\n",
    "                continue\n",
    "            dist = (points[i][0] - points[j][0])*(points[i][0] - points[j][0])+\\\n",
    "            (points[i][1] - points[j][1])*(points[i][1] - points[j][1])\n",
    "            distances.append((dist, j))\n",
    "        distances.sort(key = operator.itemgetter(0))\n",
    "        \n",
    "        for k in range(K):\n",
    "            if i * N + distances[k][1] in edge:\n",
    "                continue\n",
    "            edge.append(i * N + distances[k][1])\n",
    "            \n",
    "            # distances[k][0] : distance between point i and j\n",
    "            # distances[k][1] : j\n",
    "            x_s, y_s = points[i][0].astype(int), points[i][1].astype(int)\n",
    "            x_g, y_g = points[distances[k][1]][0].astype(int), points[distances[k][1]][1].astype(int)\n",
    "            thickness = randint(w_min, w_max)\n",
    "            cv.line(img, (y_s, x_s), (y_g, x_g), (255, 255, 255), thickness)\n",
    "            \n",
    "            \n",
    "            \n",
    "            '''\n",
    "            slope = (y_g - y_s)/(x_g - x_s + 0.001)\n",
    "            min_x = min(x_s.astype(int), x_g.astype(int))\n",
    "            max_x = max(x_s.astype(int), x_g.astype(int))\n",
    "            for x_t in range(min_x, max_x):\n",
    "                y_t = (y_s + (slope * (x_t - min_x))).astype(int)\n",
    "                for w in range(width):\n",
    "                    y_new = y_t + w\n",
    "                    x_new = x_t + w\n",
    "                    if x_new >= 0 and x_new < x and y_new >= 0 and y_new < y:\n",
    "                        img[x_new][y_new] = 1\n",
    "                    \n",
    "                    y_new = y_t + w\n",
    "                    x_new = x_t - w\n",
    "                    if x_new >= 0 and x_new < x and y_new >= 0 and y_new < y:\n",
    "                        img[x_new][y_new] = 1\n",
    "                    \n",
    "                    y_new = y_t - w\n",
    "                    x_new = x_t + w\n",
    "                    if x_new >= 0 and x_new < x and y_new >= 0 and y_new < y:\n",
    "                        img[x_new][y_new] = 1\n",
    "                    \n",
    "                    y_new = y_t - w\n",
    "                    x_new = x_t - w\n",
    "                    if x_new >= 0 and x_new < x and y_new >= 0 and y_new < y:\n",
    "                        img[x_new][y_new] = 1\n",
    "            '''\n",
    "    return img\n",
    "\n"
   ]
  },
  {
   "cell_type": "code",
   "execution_count": 532,
   "metadata": {},
   "outputs": [
    {
     "name": "stdout",
     "output_type": "stream",
     "text": [
      "128 128\n",
      "128 128\n",
      "128 128\n",
      "128 128\n",
      "128 128\n",
      "128 128\n",
      "128 128\n",
      "128 128\n",
      "128 128\n",
      "128 128\n",
      "128 256\n",
      "128 256\n",
      "128 256\n",
      "128 256\n",
      "128 256\n",
      "128 256\n",
      "128 256\n",
      "128 256\n",
      "128 256\n",
      "128 256\n",
      "256 256\n",
      "256 256\n",
      "256 256\n",
      "256 256\n",
      "256 256\n",
      "256 256\n",
      "256 256\n",
      "256 256\n",
      "256 256\n",
      "256 256\n"
     ]
    }
   ],
   "source": [
    "x = 128\n",
    "y = 128\n",
    "img = np.zeros((x,y))\n",
    "for i in range(10):\n",
    "    img = create_graph_path(img, 10, 5, 3, 5)\n",
    "    np.save(\"/home/zhizuo/lego/landmark/data/path_128_128_{}.npz\".format(i), img)\n",
    "\n",
    "x = 128\n",
    "y = 256\n",
    "img = np.zeros((x,y))\n",
    "for i in range(10):\n",
    "    img = create_graph_path(img, randint(13,17), 5, 4, 6)\n",
    "    np.save(\"/home/zhizuo/lego/landmark/data/path_128_256_{}.npz\".format(i), img)\n",
    "\n",
    "x = 256\n",
    "y = 256\n",
    "img = np.zeros((x,y))\n",
    "for i in range(10):\n",
    "    img = create_graph_path(img, randint(14,18), 5, 6, 8)\n",
    "    np.save(\"/home/zhizuo/lego/landmark/data/path_256_256_{}.npz\".format(i), img)\n",
    "    \n"
   ]
  },
  {
   "cell_type": "code",
   "execution_count": 4,
   "metadata": {},
   "outputs": [],
   "source": [
    "x, y = 128, 128\n",
    "for i in range(10):\n",
    "    img = np.zeros((x,y))\n",
    "    img = add_obstacle(img, x//20, y//10, x//20, y//10, 30, 40, rate = 0.2)\n",
    "    np.save(\"/home/zhizuo/lego/landmark/data/polygon_128_128_{}.npz\".format(i), img)\n",
    "\n",
    "x, y = 128, 256\n",
    "for i in range(10):\n",
    "    img = np.zeros((x,y))\n",
    "    img = add_obstacle(img, x//20, y//10, x//20, y//10, 30, 40, rate = 0.2)\n",
    "    np.save(\"/home/zhizuo/lego/landmark/data/polygon_128_256_{}.npz\".format(i), img)\n",
    "    \n",
    "x, y = 256, 256\n",
    "for i in range(10):\n",
    "    img = np.zeros((x,y))\n",
    "    img = add_obstacle(img, x//20, y//10, x//20, y//10, 30, 40, rate = 0.2)\n",
    "    np.save(\"/home/zhizuo/lego/landmark/data/polygon_256_256_{}.npz\".format(i), img)\n",
    "    \n",
    "    "
   ]
  },
  {
   "cell_type": "code",
   "execution_count": 15,
   "metadata": {},
   "outputs": [
    {
     "name": "stdout",
     "output_type": "stream",
     "text": [
      "128 128\n"
     ]
    },
    {
     "data": {
      "image/png": "[encoded data removed]",
      "text/plain": [
       "<Figure size 288x288 with 1 Axes>"
      ]
     },
     "metadata": {
      "needs_background": "light"
     },
     "output_type": "display_data"
    }
   ],
   "source": [
    "x = 128\n",
    "y = 128\n",
    "img = np.zeros((x,y))\n",
    "img = create_graph_path(img, 10, 4, 4, 5)\n",
    "plt.matshow(img)\n",
    "plt.show()"
   ]
  },
  {
   "cell_type": "code",
   "execution_count": 7,
   "metadata": {},
   "outputs": [
    {
     "name": "stdout",
     "output_type": "stream",
     "text": [
      "256 256\n"
     ]
    },
    {
     "data": {
      "image/png": "[encoded data removed]",
      "text/plain": [
       "<Figure size 288x288 with 1 Axes>"
      ]
     },
     "metadata": {
      "needs_background": "light"
     },
     "output_type": "display_data"
    }
   ],
   "source": [
    "x = 256\n",
    "y = 256\n",
    "img = np.zeros((x,y))\n",
    "img = create_graph_path(img, randint(14,18), 5, 6, 8)\n",
    "plt.matshow(img)\n",
    "plt.show()"
   ]
  },
  {
   "cell_type": "code",
   "execution_count": 531,
   "metadata": {},
   "outputs": [
    {
     "name": "stdout",
     "output_type": "stream",
     "text": [
      "128 128\n"
     ]
    },
    {
     "data": {
      "image/png": "[encoded data removed]",
      "text/plain": [
       "<Figure size 288x288 with 1 Axes>"
      ]
     },
     "metadata": {
      "needs_background": "light"
     },
     "output_type": "display_data"
    }
   ],
   "source": [
    "x = 128\n",
    "y = 128\n",
    "img = np.zeros((x,y))\n",
    "img = create_graph_path(img, 10, 5, 3, 5)\n",
    "plt.matshow(img)\n",
    "plt.show()"
   ]
  },
  {
   "cell_type": "code",
   "execution_count": 1,
   "metadata": {},
   "outputs": [
    {
     "ename": "NameError",
     "evalue": "name 'np' is not defined",
     "output_type": "error",
     "traceback": [
      "\u001b[0;31m---------------------------------------------------------------------------\u001b[0m",
      "\u001b[0;31mNameError\u001b[0m                                 Traceback (most recent call last)",
      "\u001b[0;32m<ipython-input-1-91052531bdc9>\u001b[0m in \u001b[0;36m<module>\u001b[0;34m\u001b[0m\n\u001b[1;32m      1\u001b[0m \u001b[0mx\u001b[0m \u001b[0;34m=\u001b[0m \u001b[0;36m256\u001b[0m\u001b[0;34m\u001b[0m\u001b[0;34m\u001b[0m\u001b[0m\n\u001b[1;32m      2\u001b[0m \u001b[0my\u001b[0m \u001b[0;34m=\u001b[0m \u001b[0;36m256\u001b[0m\u001b[0;34m\u001b[0m\u001b[0;34m\u001b[0m\u001b[0m\n\u001b[0;32m----> 3\u001b[0;31m \u001b[0mimg\u001b[0m \u001b[0;34m=\u001b[0m \u001b[0mnp\u001b[0m\u001b[0;34m.\u001b[0m\u001b[0mzeros\u001b[0m\u001b[0;34m(\u001b[0m\u001b[0;34m(\u001b[0m\u001b[0mx\u001b[0m\u001b[0;34m,\u001b[0m\u001b[0my\u001b[0m\u001b[0;34m)\u001b[0m\u001b[0;34m)\u001b[0m\u001b[0;34m\u001b[0m\u001b[0;34m\u001b[0m\u001b[0m\n\u001b[0m\u001b[1;32m      4\u001b[0m \u001b[0;34m\u001b[0m\u001b[0m\n\u001b[1;32m      5\u001b[0m \u001b[0mimg\u001b[0m \u001b[0;34m=\u001b[0m \u001b[0madd_obstacle\u001b[0m\u001b[0;34m(\u001b[0m\u001b[0mimg\u001b[0m\u001b[0;34m,\u001b[0m \u001b[0mx\u001b[0m\u001b[0;34m//\u001b[0m\u001b[0;36m20\u001b[0m\u001b[0;34m,\u001b[0m \u001b[0my\u001b[0m\u001b[0;34m//\u001b[0m\u001b[0;36m10\u001b[0m\u001b[0;34m,\u001b[0m \u001b[0mx\u001b[0m\u001b[0;34m//\u001b[0m\u001b[0;36m20\u001b[0m\u001b[0;34m,\u001b[0m \u001b[0my\u001b[0m\u001b[0;34m//\u001b[0m\u001b[0;36m10\u001b[0m\u001b[0;34m,\u001b[0m \u001b[0;36m30\u001b[0m\u001b[0;34m,\u001b[0m \u001b[0;36m40\u001b[0m\u001b[0;34m,\u001b[0m \u001b[0mrate\u001b[0m\u001b[0;34m=\u001b[0m\u001b[0;36m0.2\u001b[0m\u001b[0;34m)\u001b[0m\u001b[0;34m\u001b[0m\u001b[0;34m\u001b[0m\u001b[0m\n",
      "\u001b[0;31mNameError\u001b[0m: name 'np' is not defined"
     ]
    }
   ],
   "source": [
    "x = 256\n",
    "y = 256\n",
    "img = np.zeros((x,y))\n",
    "\n",
    "img = add_obstacle(img, x//20, y//10, x//20, y//10, 30, 40, rate=0.2)\n",
    "plt.matshow(img)\n",
    "plt.show()"
   ]
  },
  {
   "cell_type": "code",
   "execution_count": 429,
   "metadata": {},
   "outputs": [
    {
     "data": {
      "text/plain": [
       "[<matplotlib.lines.Line2D at 0x7f60418bf2d0>]"
      ]
     },
     "execution_count": 429,
     "metadata": {},
     "output_type": "execute_result"
    },
    {
     "data": {
      "image/png": "[encoded data removed]",
      "text/plain": [
       "<Figure size 468x288 with 1 Axes>"
      ]
     },
     "metadata": {
      "needs_background": "light"
     },
     "output_type": "display_data"
    }
   ],
   "source": [
    "from scipy.interpolate import CubicSpline\n",
    "import matplotlib.pyplot as plt\n",
    "x = np.arange(10)\n",
    "y = np.sin(x)\n",
    "cs = CubicSpline(x, y)\n",
    "xs = np.arange(-0.5, 9.6, 0.1)\n",
    "fig, ax = plt.subplots(figsize=(6.5, 4))\n",
    "ax.plot(x, cs(x))"
   ]
  },
  {
   "cell_type": "code",
   "execution_count": null,
   "metadata": {},
   "outputs": [],
   "source": []
  }
 ],
 "metadata": {
  "kernelspec": {
   "display_name": "Python 3",
   "language": "python",
   "name": "python3"
  },
  "language_info": {
   "codemirror_mode": {
    "name": "ipython",
    "version": 3
   },
   "file_extension": ".py",
   "mimetype": "text/x-python",
   "name": "python",
   "nbconvert_exporter": "python",
   "pygments_lexer": "ipython3",
   "version": "3.7.5"
  }
 },
 "nbformat": 4,
 "nbformat_minor": 2
}
